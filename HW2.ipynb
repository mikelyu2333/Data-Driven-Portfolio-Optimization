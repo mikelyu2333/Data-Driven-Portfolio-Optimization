{
 "cells": [
  {
   "cell_type": "markdown",
   "id": "7b839a43",
   "metadata": {},
   "source": [
    "# Problem 1"
   ]
  },
  {
   "cell_type": "markdown",
   "id": "f68ae471",
   "metadata": {},
   "source": [
    "1. a) \n",
    "$\\alpha$ is the constant return of the N stocks, unrelated to the two factors' beta\n",
    "$\\beta$ is the sensitivity of the N stocks to the returns of the two factors, S&P500 index and Bitcoin.\n",
    "$f_t$ is the returns of the two factors, S&P500 index and Bitcoin, at time t.\n",
    "$\\epsilon_t$ is the residual ramdom number with mean 0. "
   ]
  },
  {
   "cell_type": "code",
   "execution_count": 1,
   "id": "76961144",
   "metadata": {},
   "outputs": [],
   "source": [
    "import numpy as np\n",
    "import pandas as pd\n",
    "from pandas_datareader import data as pdr\n",
    "import yfinance as yf\n",
    "import cvxpy as cp\n",
    "yf.pdr_override()\n",
    "import matplotlib.pyplot as plt\n",
    "from itertools import combinations\n",
    "import seaborn as sns\n",
    "from matplotlib.colors import LogNorm"
   ]
  },
  {
   "cell_type": "code",
   "execution_count": 2,
   "id": "796312ac",
   "metadata": {},
   "outputs": [
    {
     "name": "stdout",
     "output_type": "stream",
     "text": [
      "[*********************100%***********************]  10 of 10 completed\n",
      "[*********************100%***********************]  2 of 2 completed\n"
     ]
    }
   ],
   "source": [
    "# 1.(b)\n",
    "stocks = ['TSLA', 'AMZN', 'EBAY', 'AAPL', 'MSFT', 'META', 'GOOGL',\n",
    "          'NFLX', 'IBM', 'NVDA']\n",
    "indices = ['^GSPC', 'BTC-USD']\n",
    "N = len(stocks)\n",
    "prices = pdr.get_data_yahoo(stocks, start=\"2019-01-01\", end=\"2022-12-31\")[['Adj Close']].xs('Adj Close', axis = 1)\n",
    "factors = pdr.get_data_yahoo(indices, start=\"2019-01-01\", end=\"2022-12-31\")[['Adj Close']].xs('Adj Close', axis = 1)"
   ]
  },
  {
   "cell_type": "code",
   "execution_count": 3,
   "id": "233592b7",
   "metadata": {},
   "outputs": [
    {
     "data": {
      "text/html": [
       "<div>\n",
       "<style scoped>\n",
       "    .dataframe tbody tr th:only-of-type {\n",
       "        vertical-align: middle;\n",
       "    }\n",
       "\n",
       "    .dataframe tbody tr th {\n",
       "        vertical-align: top;\n",
       "    }\n",
       "\n",
       "    .dataframe thead th {\n",
       "        text-align: right;\n",
       "    }\n",
       "</style>\n",
       "<table border=\"1\" class=\"dataframe\">\n",
       "  <thead>\n",
       "    <tr style=\"text-align: right;\">\n",
       "      <th></th>\n",
       "      <th>AAPL</th>\n",
       "      <th>AMZN</th>\n",
       "      <th>EBAY</th>\n",
       "      <th>GOOGL</th>\n",
       "      <th>IBM</th>\n",
       "      <th>META</th>\n",
       "      <th>MSFT</th>\n",
       "      <th>NFLX</th>\n",
       "      <th>NVDA</th>\n",
       "      <th>TSLA</th>\n",
       "    </tr>\n",
       "    <tr>\n",
       "      <th>Date</th>\n",
       "      <th></th>\n",
       "      <th></th>\n",
       "      <th></th>\n",
       "      <th></th>\n",
       "      <th></th>\n",
       "      <th></th>\n",
       "      <th></th>\n",
       "      <th></th>\n",
       "      <th></th>\n",
       "      <th></th>\n",
       "    </tr>\n",
       "  </thead>\n",
       "  <tbody>\n",
       "    <tr>\n",
       "      <th>2019-01-03</th>\n",
       "      <td>-0.104924</td>\n",
       "      <td>-0.025566</td>\n",
       "      <td>-0.018542</td>\n",
       "      <td>-0.028086</td>\n",
       "      <td>-0.020165</td>\n",
       "      <td>-0.029469</td>\n",
       "      <td>-0.037482</td>\n",
       "      <td>0.013139</td>\n",
       "      <td>-0.062319</td>\n",
       "      <td>-0.031978</td>\n",
       "    </tr>\n",
       "    <tr>\n",
       "      <th>2019-01-04</th>\n",
       "      <td>0.041803</td>\n",
       "      <td>0.048851</td>\n",
       "      <td>0.022692</td>\n",
       "      <td>0.050021</td>\n",
       "      <td>0.038314</td>\n",
       "      <td>0.046061</td>\n",
       "      <td>0.045460</td>\n",
       "      <td>0.092793</td>\n",
       "      <td>0.062099</td>\n",
       "      <td>0.056094</td>\n",
       "    </tr>\n",
       "    <tr>\n",
       "      <th>2019-01-07</th>\n",
       "      <td>-0.002228</td>\n",
       "      <td>0.033777</td>\n",
       "      <td>0.017112</td>\n",
       "      <td>-0.001996</td>\n",
       "      <td>0.007050</td>\n",
       "      <td>0.000725</td>\n",
       "      <td>0.001275</td>\n",
       "      <td>0.058002</td>\n",
       "      <td>0.051587</td>\n",
       "      <td>0.052935</td>\n",
       "    </tr>\n",
       "    <tr>\n",
       "      <th>2019-01-08</th>\n",
       "      <td>0.018884</td>\n",
       "      <td>0.016476</td>\n",
       "      <td>0.017825</td>\n",
       "      <td>0.008745</td>\n",
       "      <td>0.014119</td>\n",
       "      <td>0.031937</td>\n",
       "      <td>0.007225</td>\n",
       "      <td>0.015513</td>\n",
       "      <td>-0.025211</td>\n",
       "      <td>0.001164</td>\n",
       "    </tr>\n",
       "    <tr>\n",
       "      <th>2019-01-09</th>\n",
       "      <td>0.016839</td>\n",
       "      <td>0.001713</td>\n",
       "      <td>0.009620</td>\n",
       "      <td>-0.003433</td>\n",
       "      <td>0.007151</td>\n",
       "      <td>0.011857</td>\n",
       "      <td>0.014198</td>\n",
       "      <td>-0.000968</td>\n",
       "      <td>0.019476</td>\n",
       "      <td>0.009438</td>\n",
       "    </tr>\n",
       "    <tr>\n",
       "      <th>...</th>\n",
       "      <td>...</td>\n",
       "      <td>...</td>\n",
       "      <td>...</td>\n",
       "      <td>...</td>\n",
       "      <td>...</td>\n",
       "      <td>...</td>\n",
       "      <td>...</td>\n",
       "      <td>...</td>\n",
       "      <td>...</td>\n",
       "      <td>...</td>\n",
       "    </tr>\n",
       "    <tr>\n",
       "      <th>2022-12-23</th>\n",
       "      <td>-0.002802</td>\n",
       "      <td>0.017274</td>\n",
       "      <td>0.001245</td>\n",
       "      <td>0.016612</td>\n",
       "      <td>0.005451</td>\n",
       "      <td>0.007824</td>\n",
       "      <td>0.002265</td>\n",
       "      <td>-0.009414</td>\n",
       "      <td>-0.008709</td>\n",
       "      <td>-0.017707</td>\n",
       "    </tr>\n",
       "    <tr>\n",
       "      <th>2022-12-27</th>\n",
       "      <td>-0.013976</td>\n",
       "      <td>-0.026266</td>\n",
       "      <td>-0.002243</td>\n",
       "      <td>-0.020836</td>\n",
       "      <td>0.005421</td>\n",
       "      <td>-0.009876</td>\n",
       "      <td>-0.007442</td>\n",
       "      <td>-0.037267</td>\n",
       "      <td>-0.074027</td>\n",
       "      <td>-0.121138</td>\n",
       "    </tr>\n",
       "    <tr>\n",
       "      <th>2022-12-28</th>\n",
       "      <td>-0.031166</td>\n",
       "      <td>-0.014801</td>\n",
       "      <td>-0.004000</td>\n",
       "      <td>-0.015801</td>\n",
       "      <td>-0.016995</td>\n",
       "      <td>-0.010839</td>\n",
       "      <td>-0.010308</td>\n",
       "      <td>-0.025988</td>\n",
       "      <td>-0.006038</td>\n",
       "      <td>0.032553</td>\n",
       "    </tr>\n",
       "    <tr>\n",
       "      <th>2022-12-29</th>\n",
       "      <td>0.027931</td>\n",
       "      <td>0.028436</td>\n",
       "      <td>0.046497</td>\n",
       "      <td>0.027858</td>\n",
       "      <td>0.007400</td>\n",
       "      <td>0.039347</td>\n",
       "      <td>0.027255</td>\n",
       "      <td>0.050151</td>\n",
       "      <td>0.039602</td>\n",
       "      <td>0.077726</td>\n",
       "    </tr>\n",
       "    <tr>\n",
       "      <th>2022-12-30</th>\n",
       "      <td>0.002466</td>\n",
       "      <td>-0.002141</td>\n",
       "      <td>-0.008404</td>\n",
       "      <td>-0.002490</td>\n",
       "      <td>-0.001206</td>\n",
       "      <td>0.000665</td>\n",
       "      <td>-0.004950</td>\n",
       "      <td>0.012833</td>\n",
       "      <td>0.000753</td>\n",
       "      <td>0.011102</td>\n",
       "    </tr>\n",
       "  </tbody>\n",
       "</table>\n",
       "<p>1007 rows × 10 columns</p>\n",
       "</div>"
      ],
      "text/plain": [
       "                AAPL      AMZN      EBAY     GOOGL       IBM      META  \\\n",
       "Date                                                                     \n",
       "2019-01-03 -0.104924 -0.025566 -0.018542 -0.028086 -0.020165 -0.029469   \n",
       "2019-01-04  0.041803  0.048851  0.022692  0.050021  0.038314  0.046061   \n",
       "2019-01-07 -0.002228  0.033777  0.017112 -0.001996  0.007050  0.000725   \n",
       "2019-01-08  0.018884  0.016476  0.017825  0.008745  0.014119  0.031937   \n",
       "2019-01-09  0.016839  0.001713  0.009620 -0.003433  0.007151  0.011857   \n",
       "...              ...       ...       ...       ...       ...       ...   \n",
       "2022-12-23 -0.002802  0.017274  0.001245  0.016612  0.005451  0.007824   \n",
       "2022-12-27 -0.013976 -0.026266 -0.002243 -0.020836  0.005421 -0.009876   \n",
       "2022-12-28 -0.031166 -0.014801 -0.004000 -0.015801 -0.016995 -0.010839   \n",
       "2022-12-29  0.027931  0.028436  0.046497  0.027858  0.007400  0.039347   \n",
       "2022-12-30  0.002466 -0.002141 -0.008404 -0.002490 -0.001206  0.000665   \n",
       "\n",
       "                MSFT      NFLX      NVDA      TSLA  \n",
       "Date                                                \n",
       "2019-01-03 -0.037482  0.013139 -0.062319 -0.031978  \n",
       "2019-01-04  0.045460  0.092793  0.062099  0.056094  \n",
       "2019-01-07  0.001275  0.058002  0.051587  0.052935  \n",
       "2019-01-08  0.007225  0.015513 -0.025211  0.001164  \n",
       "2019-01-09  0.014198 -0.000968  0.019476  0.009438  \n",
       "...              ...       ...       ...       ...  \n",
       "2022-12-23  0.002265 -0.009414 -0.008709 -0.017707  \n",
       "2022-12-27 -0.007442 -0.037267 -0.074027 -0.121138  \n",
       "2022-12-28 -0.010308 -0.025988 -0.006038  0.032553  \n",
       "2022-12-29  0.027255  0.050151  0.039602  0.077726  \n",
       "2022-12-30 -0.004950  0.012833  0.000753  0.011102  \n",
       "\n",
       "[1007 rows x 10 columns]"
      ]
     },
     "execution_count": 3,
     "metadata": {},
     "output_type": "execute_result"
    }
   ],
   "source": [
    "factors.dropna(inplace = True)    \n",
    "factors = factors.apply(np.log).apply(np.diff)\n",
    "T = factors.shape[0]\n",
    "X = prices.apply(np.log).apply(np.diff)\n",
    "X['Date'] = prices.index.values[1:]\n",
    "X.set_index('Date', inplace = True)\n",
    "X"
   ]
  },
  {
   "cell_type": "code",
   "execution_count": 4,
   "id": "d289de28",
   "metadata": {},
   "outputs": [
    {
     "data": {
      "text/html": [
       "<div>\n",
       "<style scoped>\n",
       "    .dataframe tbody tr th:only-of-type {\n",
       "        vertical-align: middle;\n",
       "    }\n",
       "\n",
       "    .dataframe tbody tr th {\n",
       "        vertical-align: top;\n",
       "    }\n",
       "\n",
       "    .dataframe thead th {\n",
       "        text-align: right;\n",
       "    }\n",
       "</style>\n",
       "<table border=\"1\" class=\"dataframe\">\n",
       "  <thead>\n",
       "    <tr style=\"text-align: right;\">\n",
       "      <th></th>\n",
       "      <th>alpha</th>\n",
       "      <th>beta_Bitcoin</th>\n",
       "      <th>beta_S&amp;P500</th>\n",
       "    </tr>\n",
       "    <tr>\n",
       "      <th>Stock</th>\n",
       "      <th></th>\n",
       "      <th></th>\n",
       "      <th></th>\n",
       "    </tr>\n",
       "  </thead>\n",
       "  <tbody>\n",
       "    <tr>\n",
       "      <th>AAPL</th>\n",
       "      <td>0.000709</td>\n",
       "      <td>-0.006548</td>\n",
       "      <td>1.228193</td>\n",
       "    </tr>\n",
       "    <tr>\n",
       "      <th>AMZN</th>\n",
       "      <td>-0.000376</td>\n",
       "      <td>0.030284</td>\n",
       "      <td>0.993262</td>\n",
       "    </tr>\n",
       "    <tr>\n",
       "      <th>EBAY</th>\n",
       "      <td>0.000082</td>\n",
       "      <td>-0.009762</td>\n",
       "      <td>0.830940</td>\n",
       "    </tr>\n",
       "    <tr>\n",
       "      <th>GOOGL</th>\n",
       "      <td>0.000038</td>\n",
       "      <td>0.003613</td>\n",
       "      <td>1.109195</td>\n",
       "    </tr>\n",
       "    <tr>\n",
       "      <th>IBM</th>\n",
       "      <td>0.000115</td>\n",
       "      <td>-0.028000</td>\n",
       "      <td>0.860261</td>\n",
       "    </tr>\n",
       "    <tr>\n",
       "      <th>META</th>\n",
       "      <td>-0.000666</td>\n",
       "      <td>0.018550</td>\n",
       "      <td>1.233919</td>\n",
       "    </tr>\n",
       "    <tr>\n",
       "      <th>MSFT</th>\n",
       "      <td>0.000395</td>\n",
       "      <td>0.007276</td>\n",
       "      <td>1.171780</td>\n",
       "    </tr>\n",
       "    <tr>\n",
       "      <th>NFLX</th>\n",
       "      <td>-0.000379</td>\n",
       "      <td>0.044232</td>\n",
       "      <td>0.975753</td>\n",
       "    </tr>\n",
       "    <tr>\n",
       "      <th>NVDA</th>\n",
       "      <td>0.000693</td>\n",
       "      <td>0.043370</td>\n",
       "      <td>1.655125</td>\n",
       "    </tr>\n",
       "    <tr>\n",
       "      <th>TSLA</th>\n",
       "      <td>0.001051</td>\n",
       "      <td>0.106543</td>\n",
       "      <td>1.347903</td>\n",
       "    </tr>\n",
       "  </tbody>\n",
       "</table>\n",
       "</div>"
      ],
      "text/plain": [
       "          alpha  beta_Bitcoin  beta_S&P500\n",
       "Stock                                     \n",
       "AAPL   0.000709     -0.006548     1.228193\n",
       "AMZN  -0.000376      0.030284     0.993262\n",
       "EBAY   0.000082     -0.009762     0.830940\n",
       "GOOGL  0.000038      0.003613     1.109195\n",
       "IBM    0.000115     -0.028000     0.860261\n",
       "META  -0.000666      0.018550     1.233919\n",
       "MSFT   0.000395      0.007276     1.171780\n",
       "NFLX  -0.000379      0.044232     0.975753\n",
       "NVDA   0.000693      0.043370     1.655125\n",
       "TSLA   0.001051      0.106543     1.347903"
      ]
     },
     "execution_count": 4,
     "metadata": {},
     "output_type": "execute_result"
    }
   ],
   "source": [
    "alpha = cp.Variable((1,N))\n",
    "beta = cp.Variable((N,2))\n",
    "objective = cp.Minimize(cp.sum_squares(np.asarray(X) - np.ones(T).reshape([T,1]) @ alpha - np.asarray(factors) @ beta.T))\n",
    "cp.Problem(objective).solve()\n",
    "factor_molel = pd.DataFrame(np.hstack((alpha.value.T, beta.value)), columns = ['alpha', 'beta_Bitcoin','beta_S&P500'])\n",
    "factor_molel['Stock'] = prices.columns.values\n",
    "factor_molel.set_index('Stock', inplace = True)\n",
    "factor_molel"
   ]
  },
  {
   "cell_type": "code",
   "execution_count": 5,
   "id": "8ea6238f",
   "metadata": {},
   "outputs": [
    {
     "data": {
      "text/plain": [
       "array([[ 1.        , -0.02742232, -0.02506833],\n",
       "       [ 1.        ,  0.00545233,  0.0337594 ],\n",
       "       [ 1.        ,  0.0425109 ,  0.00698598],\n",
       "       ...,\n",
       "       [ 1.        , -0.00989505, -0.01209347],\n",
       "       [ 1.        ,  0.00540864,  0.01731063],\n",
       "       [ 1.        , -0.0023917 , -0.00254398]])"
      ]
     },
     "execution_count": 5,
     "metadata": {},
     "output_type": "execute_result"
    }
   ],
   "source": [
    "# 1.(c)\n",
    "F = np.column_stack([np.ones(T), factors])\n",
    "F"
   ]
  },
  {
   "cell_type": "code",
   "execution_count": 6,
   "id": "a219cfea",
   "metadata": {},
   "outputs": [],
   "source": [
    "# 1.(d)\n",
    "# Gamma_mat = np.linalg.solve(F, X)\n",
    "Gamma = X.T @ F @ np.linalg.inv(F.T @ F)\n",
    "Gamma.columns = ['alpha', 'beta_Bitcoin', 'beta_S&P500']"
   ]
  },
  {
   "cell_type": "code",
   "execution_count": 7,
   "id": "4c94533e",
   "metadata": {},
   "outputs": [
    {
     "data": {
      "text/html": [
       "<div>\n",
       "<style scoped>\n",
       "    .dataframe tbody tr th:only-of-type {\n",
       "        vertical-align: middle;\n",
       "    }\n",
       "\n",
       "    .dataframe tbody tr th {\n",
       "        vertical-align: top;\n",
       "    }\n",
       "\n",
       "    .dataframe thead th {\n",
       "        text-align: right;\n",
       "    }\n",
       "</style>\n",
       "<table border=\"1\" class=\"dataframe\">\n",
       "  <thead>\n",
       "    <tr style=\"text-align: right;\">\n",
       "      <th></th>\n",
       "      <th>alpha</th>\n",
       "      <th>beta_Bitcoin</th>\n",
       "      <th>beta_S&amp;P500</th>\n",
       "    </tr>\n",
       "  </thead>\n",
       "  <tbody>\n",
       "    <tr>\n",
       "      <th>AAPL</th>\n",
       "      <td>0.000709</td>\n",
       "      <td>-0.006548</td>\n",
       "      <td>1.228193</td>\n",
       "    </tr>\n",
       "    <tr>\n",
       "      <th>AMZN</th>\n",
       "      <td>-0.000376</td>\n",
       "      <td>0.030284</td>\n",
       "      <td>0.993262</td>\n",
       "    </tr>\n",
       "    <tr>\n",
       "      <th>EBAY</th>\n",
       "      <td>0.000082</td>\n",
       "      <td>-0.009762</td>\n",
       "      <td>0.830940</td>\n",
       "    </tr>\n",
       "    <tr>\n",
       "      <th>GOOGL</th>\n",
       "      <td>0.000038</td>\n",
       "      <td>0.003613</td>\n",
       "      <td>1.109195</td>\n",
       "    </tr>\n",
       "    <tr>\n",
       "      <th>IBM</th>\n",
       "      <td>0.000115</td>\n",
       "      <td>-0.028000</td>\n",
       "      <td>0.860261</td>\n",
       "    </tr>\n",
       "    <tr>\n",
       "      <th>META</th>\n",
       "      <td>-0.000666</td>\n",
       "      <td>0.018550</td>\n",
       "      <td>1.233919</td>\n",
       "    </tr>\n",
       "    <tr>\n",
       "      <th>MSFT</th>\n",
       "      <td>0.000395</td>\n",
       "      <td>0.007276</td>\n",
       "      <td>1.171780</td>\n",
       "    </tr>\n",
       "    <tr>\n",
       "      <th>NFLX</th>\n",
       "      <td>-0.000379</td>\n",
       "      <td>0.044232</td>\n",
       "      <td>0.975753</td>\n",
       "    </tr>\n",
       "    <tr>\n",
       "      <th>NVDA</th>\n",
       "      <td>0.000693</td>\n",
       "      <td>0.043370</td>\n",
       "      <td>1.655125</td>\n",
       "    </tr>\n",
       "    <tr>\n",
       "      <th>TSLA</th>\n",
       "      <td>0.001051</td>\n",
       "      <td>0.106543</td>\n",
       "      <td>1.347903</td>\n",
       "    </tr>\n",
       "  </tbody>\n",
       "</table>\n",
       "</div>"
      ],
      "text/plain": [
       "          alpha  beta_Bitcoin  beta_S&P500\n",
       "AAPL   0.000709     -0.006548     1.228193\n",
       "AMZN  -0.000376      0.030284     0.993262\n",
       "EBAY   0.000082     -0.009762     0.830940\n",
       "GOOGL  0.000038      0.003613     1.109195\n",
       "IBM    0.000115     -0.028000     0.860261\n",
       "META  -0.000666      0.018550     1.233919\n",
       "MSFT   0.000395      0.007276     1.171780\n",
       "NFLX  -0.000379      0.044232     0.975753\n",
       "NVDA   0.000693      0.043370     1.655125\n",
       "TSLA   0.001051      0.106543     1.347903"
      ]
     },
     "execution_count": 7,
     "metadata": {},
     "output_type": "execute_result"
    }
   ],
   "source": [
    "Gamma"
   ]
  },
  {
   "cell_type": "code",
   "execution_count": 8,
   "id": "b332fda1",
   "metadata": {},
   "outputs": [
    {
     "data": {
      "text/plain": [
       "alpha           1.301043e-18\n",
       "beta_Bitcoin    4.857226e-17\n",
       "beta_S&P500     3.330669e-16\n",
       "dtype: float64"
      ]
     },
     "execution_count": 8,
     "metadata": {},
     "output_type": "execute_result"
    }
   ],
   "source": [
    "# compare the results from the two different ways\n",
    "(factor_molel - Gamma).max()"
   ]
  },
  {
   "cell_type": "code",
   "execution_count": 9,
   "id": "0ed4edc3",
   "metadata": {},
   "outputs": [
    {
     "data": {
      "image/png": "[encoded data removed]",
      "text/plain": [
       "<Figure size 1152x648 with 1 Axes>"
      ]
     },
     "metadata": {
      "needs_background": "light"
     },
     "output_type": "display_data"
    }
   ],
   "source": [
    "# 1.(e)\n",
    "fig = plt.figure(figsize=(16, 9))\n",
    "ax = fig.add_subplot(projection='3d')\n",
    "\n",
    "xs = Gamma['beta_S&P500']\n",
    "ys = Gamma['beta_Bitcoin']\n",
    "zs = Gamma['alpha']\n",
    "labels = Gamma.index.values\n",
    "\n",
    "for x, y, z, label in zip(xs, ys, zs, labels):\n",
    "    if x < np.median(Gamma['beta_S&P500']) and \\\n",
    "            y < np.median(Gamma['beta_Bitcoin']) and z > 0:\n",
    "        ax.text(x, y, z, label,fontsize=8, c='r', zdir = 'y')\n",
    "        ax.scatter(x, y, z, c='r')\n",
    "    else:\n",
    "        ax.text(x, y, z, label,fontsize=8, c='k')\n",
    "        ax.scatter(x, y, z, c='k')\n",
    "\n",
    "ax.set_xlabel('beta_S&P500')\n",
    "ax.set_ylabel('beta_Bitcoin')\n",
    "# ax.set_zlabel('alpha')\n",
    "ax.text(1.74, 0.15, 0.0002, 'alpha',fontsize=12, zdir = 'z')\n",
    "\n",
    "plt.show()"
   ]
  },
  {
   "cell_type": "markdown",
   "id": "772e59c1",
   "metadata": {},
   "source": [
    "1.(f) \n",
    "IBM, EBAT and GOOGL are less risky stocks to invest on as they have lower sentivity to the S&P500 index and Bitcoin price, also they have positive alpha, which are excess returns. "
   ]
  },
  {
   "cell_type": "code",
   "execution_count": 10,
   "id": "32e36faf",
   "metadata": {},
   "outputs": [
    {
     "data": {
      "text/html": [
       "<div>\n",
       "<style scoped>\n",
       "    .dataframe tbody tr th:only-of-type {\n",
       "        vertical-align: middle;\n",
       "    }\n",
       "\n",
       "    .dataframe tbody tr th {\n",
       "        vertical-align: top;\n",
       "    }\n",
       "\n",
       "    .dataframe thead th {\n",
       "        text-align: right;\n",
       "    }\n",
       "</style>\n",
       "<table border=\"1\" class=\"dataframe\">\n",
       "  <thead>\n",
       "    <tr style=\"text-align: right;\">\n",
       "      <th></th>\n",
       "      <th>alpha</th>\n",
       "      <th>beta_1</th>\n",
       "      <th>beta_2</th>\n",
       "    </tr>\n",
       "  </thead>\n",
       "  <tbody>\n",
       "    <tr>\n",
       "      <th>AAPL</th>\n",
       "      <td>0.001218</td>\n",
       "      <td>-0.017702</td>\n",
       "      <td>0.003439</td>\n",
       "    </tr>\n",
       "    <tr>\n",
       "      <th>AMZN</th>\n",
       "      <td>0.000087</td>\n",
       "      <td>-0.017889</td>\n",
       "      <td>0.005015</td>\n",
       "    </tr>\n",
       "    <tr>\n",
       "      <th>EBAY</th>\n",
       "      <td>0.000419</td>\n",
       "      <td>-0.012355</td>\n",
       "      <td>0.002455</td>\n",
       "    </tr>\n",
       "    <tr>\n",
       "      <th>GOOGL</th>\n",
       "      <td>0.000511</td>\n",
       "      <td>-0.016121</td>\n",
       "      <td>0.005469</td>\n",
       "    </tr>\n",
       "    <tr>\n",
       "      <th>IBM</th>\n",
       "      <td>0.000439</td>\n",
       "      <td>-0.007453</td>\n",
       "      <td>0.002652</td>\n",
       "    </tr>\n",
       "    <tr>\n",
       "      <th>META</th>\n",
       "      <td>-0.000119</td>\n",
       "      <td>-0.021006</td>\n",
       "      <td>0.010673</td>\n",
       "    </tr>\n",
       "    <tr>\n",
       "      <th>MSFT</th>\n",
       "      <td>0.000900</td>\n",
       "      <td>-0.016752</td>\n",
       "      <td>0.004416</td>\n",
       "    </tr>\n",
       "    <tr>\n",
       "      <th>NFLX</th>\n",
       "      <td>0.000096</td>\n",
       "      <td>-0.021503</td>\n",
       "      <td>0.007232</td>\n",
       "    </tr>\n",
       "    <tr>\n",
       "      <th>NVDA</th>\n",
       "      <td>0.001454</td>\n",
       "      <td>-0.028261</td>\n",
       "      <td>0.004774</td>\n",
       "    </tr>\n",
       "    <tr>\n",
       "      <th>TSLA</th>\n",
       "      <td>0.001772</td>\n",
       "      <td>-0.032121</td>\n",
       "      <td>-0.027317</td>\n",
       "    </tr>\n",
       "  </tbody>\n",
       "</table>\n",
       "</div>"
      ],
      "text/plain": [
       "          alpha    beta_1    beta_2\n",
       "AAPL   0.001218 -0.017702  0.003439\n",
       "AMZN   0.000087 -0.017889  0.005015\n",
       "EBAY   0.000419 -0.012355  0.002455\n",
       "GOOGL  0.000511 -0.016121  0.005469\n",
       "IBM    0.000439 -0.007453  0.002652\n",
       "META  -0.000119 -0.021006  0.010673\n",
       "MSFT   0.000900 -0.016752  0.004416\n",
       "NFLX   0.000096 -0.021503  0.007232\n",
       "NVDA   0.001454 -0.028261  0.004774\n",
       "TSLA   0.001772 -0.032121 -0.027317"
      ]
     },
     "execution_count": 10,
     "metadata": {},
     "output_type": "execute_result"
    }
   ],
   "source": [
    "# 1.(g) \n",
    "from sklearn.preprocessing import scale\n",
    "\n",
    "K = 2\n",
    "alpha = np.mean(X, axis=0)\n",
    "X_ = scale(X, with_std=False)\n",
    "Sigma_prev = np.zeros((N, N))\n",
    "Psi = np.zeros((N, N))\n",
    "Sigma = X_.T @ X_ / (T-1)\n",
    "while (np.linalg.norm(Sigma - Sigma_prev)/np.linalg.norm(Sigma) > 1e-3):\n",
    "  values, vectors = np.linalg.eig(Sigma - Psi)\n",
    "  B = vectors[:, :K] * np.sqrt(values[:K])\n",
    "  Psi = np.diag(np.diag(Sigma - B @ B.T))\n",
    "  Sigma_prev = Sigma\n",
    "  Sigma = B @ B.T + Psi\n",
    "stat_model = pd.DataFrame(np.column_stack([alpha, B]).real, index=Gamma.index.values) \n",
    "stat_model.rename(columns = {0 : 'alpha', 1 : 'beta_1', 2 : 'beta_2'}, inplace = True)\n",
    "stat_model"
   ]
  },
  {
   "cell_type": "code",
   "execution_count": 11,
   "id": "f8e8267f",
   "metadata": {},
   "outputs": [
    {
     "data": {
      "text/plain": [
       "array([[ 1.        , -0.22952926],\n",
       "       [-0.22952926,  1.        ]])"
      ]
     },
     "execution_count": 11,
     "metadata": {},
     "output_type": "execute_result"
    }
   ],
   "source": [
    "np.corrcoef(factor_molel['alpha'], stat_model['alpha'])   # 0.98\n",
    "np.corrcoef(factor_molel['beta_S&P500'], stat_model['beta_2'])   # 0.79"
   ]
  },
  {
   "cell_type": "markdown",
   "id": "5c0e2b57",
   "metadata": {},
   "source": [
    "The alphas in the two models have the same trend, with a correlation efficient high as 0.98\n",
    "The correlation efficient of one beta (for S&P500 in the factor model) is also not low, at 0.79\n",
    "The other beta in statistical factor is insignificant and not meaningful. \n",
    "The factor model in part b works better and it is more interpretable. Although the statistic model derive a factor with a meaningful  beta but we don't know what it is."
   ]
  },
  {
   "cell_type": "code",
   "execution_count": 12,
   "id": "83b3be64",
   "metadata": {},
   "outputs": [
    {
     "data": {
      "image/png": "[encoded data removed]",
      "text/plain": [
       "<Figure size 648x360 with 1 Axes>"
      ]
     },
     "metadata": {
      "needs_background": "light"
     },
     "output_type": "display_data"
    }
   ],
   "source": [
    "fig, ax = plt.subplots(figsize=(9, 5))\n",
    "ln1, = ax.plot(factor_molel.index.values, factor_molel['alpha'])\n",
    "ln2, = ax.plot(factor_molel.index.values, stat_model['alpha'])\n",
    "plt.legend(handles = [ln1, ln2], labels = ['Alpha - Factor Model','Alpha - Statistical Model'])\n",
    "plt.show()"
   ]
  },
  {
   "cell_type": "code",
   "execution_count": 13,
   "id": "08c4de62",
   "metadata": {},
   "outputs": [
    {
     "data": {
      "image/png": "[encoded data removed]",
      "text/plain": [
       "<Figure size 648x360 with 2 Axes>"
      ]
     },
     "metadata": {
      "needs_background": "light"
     },
     "output_type": "display_data"
    }
   ],
   "source": [
    "fig, ax = plt.subplots(figsize=(9, 5))\n",
    "ln1, = ax.plot(factor_molel.index.values, factor_molel['beta_S&P500'])\n",
    "ax2=ax.twinx()\n",
    "ln2, = ax2.plot(factor_molel.index.values, stat_model['beta_2'], c='y')\n",
    "plt.legend(handles = [ln1, ln2], labels = ['beta_S&P500 - Factor Model','beta_2 - Statistical Model'])\n",
    "plt.show()"
   ]
  },
  {
   "cell_type": "markdown",
   "id": "47cac6ed",
   "metadata": {},
   "source": [
    "# Problem 2"
   ]
  },
  {
   "cell_type": "code",
   "execution_count": 14,
   "id": "e6cb1597",
   "metadata": {},
   "outputs": [
    {
     "data": {
      "text/plain": [
       "array([0.14576681, 0.32967847, 0.52455472])"
      ]
     },
     "execution_count": 14,
     "metadata": {},
     "output_type": "execute_result"
    }
   ],
   "source": [
    "# 2.a)\n",
    "training = X[:'2021-12-31'][['AAPL','MSFT','GOOGL']]\n",
    "test = X['2022-1-1':][['AAPL','MSFT','GOOGL']]\n",
    "mu_s = np.mean(training, axis=0)\n",
    "sigma_s = np.cov(training.T)\n",
    "rho_list = [0, 0.2, 0.4, 0.6, 0.8, 1]\n",
    "N = len(mu_s)\n",
    "X = cp.Variable(3)\n",
    "beta = 0.001\n",
    "objective = cp.Minimize(X.T @ sigma_s @ X)\n",
    "constraints = [X >= 0, cp.sum(X) == 1, X @ mu_s >= beta]      # np.log(1 + beta / 253)\n",
    "cp.Problem(objective, constraints).solve()\n",
    "W = X.value\n",
    "W"
   ]
  },
  {
   "cell_type": "code",
   "execution_count": 26,
   "id": "0328bc34",
   "metadata": {},
   "outputs": [
    {
     "data": {
      "text/plain": [
       "AAPL     0.002028\n",
       "MSFT     0.001634\n",
       "GOOGL    0.001337\n",
       "dtype: float64"
      ]
     },
     "execution_count": 26,
     "metadata": {},
     "output_type": "execute_result"
    }
   ],
   "source": [
    "mu_s"
   ]
  },
  {
   "cell_type": "code",
   "execution_count": 15,
   "id": "9c78b3b4",
   "metadata": {},
   "outputs": [],
   "source": [
    "def sharp(rho1, rho2):\n",
    "    sigma = rho1 * sigma_s + (1 - rho1) * np.diag(sigma_s)\n",
    "    mu = rho2 * mu_s + (1 - rho2) * np.ones(N).T @ mu_s / N * np.ones(N)    \n",
    "    sharp = W.T @ mu / np.sqrt(W.T @ sigma @ W)\n",
    "    return sharp"
   ]
  },
  {
   "cell_type": "code",
   "execution_count": 16,
   "id": "aa147fb4",
   "metadata": {},
   "outputs": [
    {
     "data": {
      "text/html": [
       "<div>\n",
       "<style scoped>\n",
       "    .dataframe tbody tr th:only-of-type {\n",
       "        vertical-align: middle;\n",
       "    }\n",
       "\n",
       "    .dataframe tbody tr th {\n",
       "        vertical-align: top;\n",
       "    }\n",
       "\n",
       "    .dataframe thead th {\n",
       "        text-align: right;\n",
       "    }\n",
       "</style>\n",
       "<table border=\"1\" class=\"dataframe\">\n",
       "  <thead>\n",
       "    <tr style=\"text-align: right;\">\n",
       "      <th></th>\n",
       "      <th>0.0</th>\n",
       "      <th>0.2</th>\n",
       "      <th>0.4</th>\n",
       "      <th>0.6</th>\n",
       "      <th>0.8</th>\n",
       "      <th>1.0</th>\n",
       "    </tr>\n",
       "  </thead>\n",
       "  <tbody>\n",
       "    <tr>\n",
       "      <th>1.0</th>\n",
       "      <td>0.093825</td>\n",
       "      <td>0.092352</td>\n",
       "      <td>0.090879</td>\n",
       "      <td>0.089406</td>\n",
       "      <td>0.087933</td>\n",
       "      <td>0.086460</td>\n",
       "    </tr>\n",
       "    <tr>\n",
       "      <th>0.8</th>\n",
       "      <td>0.092208</td>\n",
       "      <td>0.090760</td>\n",
       "      <td>0.089313</td>\n",
       "      <td>0.087865</td>\n",
       "      <td>0.086417</td>\n",
       "      <td>0.084970</td>\n",
       "    </tr>\n",
       "    <tr>\n",
       "      <th>0.6</th>\n",
       "      <td>0.090672</td>\n",
       "      <td>0.089248</td>\n",
       "      <td>0.087825</td>\n",
       "      <td>0.086401</td>\n",
       "      <td>0.084978</td>\n",
       "      <td>0.083554</td>\n",
       "    </tr>\n",
       "    <tr>\n",
       "      <th>0.4</th>\n",
       "      <td>0.089210</td>\n",
       "      <td>0.087809</td>\n",
       "      <td>0.086409</td>\n",
       "      <td>0.085008</td>\n",
       "      <td>0.083608</td>\n",
       "      <td>0.082207</td>\n",
       "    </tr>\n",
       "    <tr>\n",
       "      <th>0.2</th>\n",
       "      <td>0.087816</td>\n",
       "      <td>0.086438</td>\n",
       "      <td>0.085059</td>\n",
       "      <td>0.083680</td>\n",
       "      <td>0.082302</td>\n",
       "      <td>0.080923</td>\n",
       "    </tr>\n",
       "    <tr>\n",
       "      <th>0.0</th>\n",
       "      <td>0.086486</td>\n",
       "      <td>0.085129</td>\n",
       "      <td>0.083771</td>\n",
       "      <td>0.082413</td>\n",
       "      <td>0.081055</td>\n",
       "      <td>0.079698</td>\n",
       "    </tr>\n",
       "  </tbody>\n",
       "</table>\n",
       "</div>"
      ],
      "text/plain": [
       "          0.0       0.2       0.4       0.6       0.8       1.0\n",
       "1.0  0.093825  0.092352  0.090879  0.089406  0.087933  0.086460\n",
       "0.8  0.092208  0.090760  0.089313  0.087865  0.086417  0.084970\n",
       "0.6  0.090672  0.089248  0.087825  0.086401  0.084978  0.083554\n",
       "0.4  0.089210  0.087809  0.086409  0.085008  0.083608  0.082207\n",
       "0.2  0.087816  0.086438  0.085059  0.083680  0.082302  0.080923\n",
       "0.0  0.086486  0.085129  0.083771  0.082413  0.081055  0.079698"
      ]
     },
     "execution_count": 16,
     "metadata": {},
     "output_type": "execute_result"
    }
   ],
   "source": [
    "# 2.b)\n",
    "sharps = pd.DataFrame(index = rho_list, columns = rho_list, dtype = 'float64')\n",
    "for i in range(len(rho_list)):\n",
    "    for j in range(len(rho_list)):\n",
    "        sharps.at[rho_list[i],rho_list[j]]= sharp(rho_list[i], rho_list[j])\n",
    "sharps = sharps.sort_index(axis = 0, ascending = False)\n",
    "sharps"
   ]
  },
  {
   "cell_type": "code",
   "execution_count": 17,
   "id": "0627a4dc",
   "metadata": {},
   "outputs": [
    {
     "data": {
      "text/plain": [
       "0.09382473269068788"
      ]
     },
     "execution_count": 17,
     "metadata": {},
     "output_type": "execute_result"
    }
   ],
   "source": [
    "sharp_max = sharps.max(axis=0).max()\n",
    "sharp_max"
   ]
  },
  {
   "cell_type": "code",
   "execution_count": 18,
   "id": "1f0baf15",
   "metadata": {},
   "outputs": [
    {
     "data": {
      "text/plain": [
       "1.0"
      ]
     },
     "execution_count": 18,
     "metadata": {},
     "output_type": "execute_result"
    }
   ],
   "source": [
    "rho1_maxSharp = sharps.max(axis=1).idxmax()\n",
    "rho1_maxSharp"
   ]
  },
  {
   "cell_type": "code",
   "execution_count": 19,
   "id": "d5632c6b",
   "metadata": {},
   "outputs": [
    {
     "data": {
      "text/plain": [
       "0.0"
      ]
     },
     "execution_count": 19,
     "metadata": {},
     "output_type": "execute_result"
    }
   ],
   "source": [
    "rho2_maxSharp = sharps.max(axis=0).idxmax()\n",
    "rho2_maxSharp"
   ]
  },
  {
   "cell_type": "code",
   "execution_count": 20,
   "id": "1a800223",
   "metadata": {},
   "outputs": [
    {
     "data": {
      "image/png": "[encoded data removed]",
      "text/plain": [
       "<Figure size 432x288 with 2 Axes>"
      ]
     },
     "metadata": {
      "needs_background": "light"
     },
     "output_type": "display_data"
    }
   ],
   "source": [
    "ax = sns.heatmap(\n",
    "    sharps.sort_index(axis = 0, ascending = False), \n",
    "    cmap='coolwarm',\n",
    "    square=True\n",
    ")\n",
    "ax.set(xlabel = rho_list)\n",
    "ax.set(ylabel = rho_list)\n",
    "ax.set_ylabel('Rho1')\n",
    "ax.set_xlabel('Rho2')\n",
    "plt.show()"
   ]
  },
  {
   "cell_type": "code",
   "execution_count": 21,
   "id": "4b6a77f8",
   "metadata": {},
   "outputs": [
    {
     "data": {
      "text/plain": [
       "-0.0676425959373435"
      ]
     },
     "execution_count": 21,
     "metadata": {},
     "output_type": "execute_result"
    }
   ],
   "source": [
    "# 2.c)\n",
    "rho1 = rho1_maxSharp   # 1\n",
    "rho2 = rho2_maxSharp   # 0\n",
    "mu_t = np.mean(test, axis=0)\n",
    "sigma_t = np.cov(test.T)\n",
    "sigma = rho1 * sigma_t + (1 - rho1) * np.diag(sigma_t)\n",
    "mu = rho2 * mu_t + (1 - rho2) * np.ones(N).T @ mu_t / N * np.ones(N)    \n",
    "sharp = W.T @ mu / np.sqrt(W.T @ sigma @ W)\n",
    "sharp"
   ]
  },
  {
   "cell_type": "code",
   "execution_count": 22,
   "id": "1be76f15",
   "metadata": {},
   "outputs": [
    {
     "data": {
      "text/plain": [
       "-0.0741176770149314"
      ]
     },
     "execution_count": 22,
     "metadata": {},
     "output_type": "execute_result"
    }
   ],
   "source": [
    "# 2.d)\n",
    "rho1 = 1.0\n",
    "rho2 = 1.0\n",
    "sigma = rho1 * sigma_t + (1 - rho1) * np.diag(sigma_t)\n",
    "mu = rho2 * mu_t + (1 - rho2) * np.ones(N).T @ mu_t / N * np.ones(N)    \n",
    "sharp = W.T @ mu / np.sqrt(W.T @ sigma @ W)\n",
    "sharp  "
   ]
  },
  {
   "cell_type": "markdown",
   "id": "b759fbf3",
   "metadata": {},
   "source": [
    "The sharp without shrinkage is a little decreased. With the shrinkage (rho2 = 0), in calculating sharp ratio we use the simple average return of the three stocks -0.0015, which is higher than the weighted average return -0.0016, used without shrinkage. GOOGL, taking up 52% in our porfolio but having the biggest loss among the three stocks in 2022, make the simple average better than the weight average. "
   ]
  },
  {
   "cell_type": "code",
   "execution_count": 23,
   "id": "3392d456",
   "metadata": {},
   "outputs": [
    {
     "data": {
      "text/plain": [
       "-0.0016460547250662844"
      ]
     },
     "execution_count": 23,
     "metadata": {},
     "output_type": "execute_result"
    }
   ],
   "source": [
    "mu_t @ W"
   ]
  },
  {
   "cell_type": "code",
   "execution_count": 24,
   "id": "0df8beac",
   "metadata": {},
   "outputs": [
    {
     "data": {
      "text/plain": [
       "-0.001502251812829792"
      ]
     },
     "execution_count": 24,
     "metadata": {},
     "output_type": "execute_result"
    }
   ],
   "source": [
    "np.ones(N).T @ mu_t / N"
   ]
  },
  {
   "cell_type": "code",
   "execution_count": 25,
   "id": "04902ece",
   "metadata": {},
   "outputs": [
    {
     "data": {
      "text/plain": [
       "-0.001502251812829792"
      ]
     },
     "execution_count": 25,
     "metadata": {},
     "output_type": "execute_result"
    }
   ],
   "source": [
    "mu_t.mean()"
   ]
  },
  {
   "cell_type": "code",
   "execution_count": null,
   "id": "e3d0df82",
   "metadata": {},
   "outputs": [],
   "source": []
  }
 ],
 "metadata": {
  "kernelspec": {
   "display_name": "Python 3 (ipykernel)",
   "language": "python",
   "name": "python3"
  },
  "language_info": {
   "codemirror_mode": {
    "name": "ipython",
    "version": 3
   },
   "file_extension": ".py",
   "mimetype": "text/x-python",
   "name": "python",
   "nbconvert_exporter": "python",
   "pygments_lexer": "ipython3",
   "version": "3.9.12"
  },
  "toc": {
   "base_numbering": 1,
   "nav_menu": {},
   "number_sections": true,
   "sideBar": true,
   "skip_h1_title": false,
   "title_cell": "Table of Contents",
   "title_sidebar": "Contents",
   "toc_cell": false,
   "toc_position": {},
   "toc_section_display": true,
   "toc_window_display": false
  }
 },
 "nbformat": 4,
 "nbformat_minor": 5
}
